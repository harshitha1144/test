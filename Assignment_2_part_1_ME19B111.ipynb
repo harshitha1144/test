{
 "cells": [
  {
   "cell_type": "code",
   "execution_count": 51,
   "metadata": {},
   "outputs": [],
   "source": [
    "import os\n",
    "import pandas as pd\n",
    "import numpy as np\n",
    "from numpy.linalg import eig\n",
    "import matplotlib.pyplot as plt\n",
    "import seaborn as sns\n",
    "import random \n",
    "import math\n",
    "import warnings\n",
    "warnings.filterwarnings(\"ignore\")"
   ]
  },
  {
   "cell_type": "code",
   "execution_count": 52,
   "metadata": {},
   "outputs": [],
   "source": [
    "os.chdir(r\"C:\\Users\\me19b\\OneDrive\\Desktop\\PRML_assignment_2\")\n",
    "os.getcwd()\n",
    "dataset_pd = pd.read_csv('A2Q1.csv',header = None)\n",
    "dataset_pd.columns=['feature_1']"
   ]
  },
  {
   "cell_type": "code",
   "execution_count": 53,
   "metadata": {},
   "outputs": [
    {
     "data": {
      "text/html": [
       "<div>\n",
       "<style scoped>\n",
       "    .dataframe tbody tr th:only-of-type {\n",
       "        vertical-align: middle;\n",
       "    }\n",
       "\n",
       "    .dataframe tbody tr th {\n",
       "        vertical-align: top;\n",
       "    }\n",
       "\n",
       "    .dataframe thead th {\n",
       "        text-align: right;\n",
       "    }\n",
       "</style>\n",
       "<table border=\"1\" class=\"dataframe\">\n",
       "  <thead>\n",
       "    <tr style=\"text-align: right;\">\n",
       "      <th></th>\n",
       "      <th>feature_1</th>\n",
       "    </tr>\n",
       "  </thead>\n",
       "  <tbody>\n",
       "    <tr>\n",
       "      <th>0</th>\n",
       "      <td>0.57539</td>\n",
       "    </tr>\n",
       "    <tr>\n",
       "      <th>1</th>\n",
       "      <td>7.69890</td>\n",
       "    </tr>\n",
       "    <tr>\n",
       "      <th>2</th>\n",
       "      <td>5.17310</td>\n",
       "    </tr>\n",
       "    <tr>\n",
       "      <th>3</th>\n",
       "      <td>1.00350</td>\n",
       "    </tr>\n",
       "    <tr>\n",
       "      <th>4</th>\n",
       "      <td>0.21469</td>\n",
       "    </tr>\n",
       "    <tr>\n",
       "      <th>...</th>\n",
       "      <td>...</td>\n",
       "    </tr>\n",
       "    <tr>\n",
       "      <th>995</th>\n",
       "      <td>39.90800</td>\n",
       "    </tr>\n",
       "    <tr>\n",
       "      <th>996</th>\n",
       "      <td>2.77390</td>\n",
       "    </tr>\n",
       "    <tr>\n",
       "      <th>997</th>\n",
       "      <td>4.18190</td>\n",
       "    </tr>\n",
       "    <tr>\n",
       "      <th>998</th>\n",
       "      <td>63.89000</td>\n",
       "    </tr>\n",
       "    <tr>\n",
       "      <th>999</th>\n",
       "      <td>11.66300</td>\n",
       "    </tr>\n",
       "  </tbody>\n",
       "</table>\n",
       "<p>1000 rows × 1 columns</p>\n",
       "</div>"
      ],
      "text/plain": [
       "     feature_1\n",
       "0      0.57539\n",
       "1      7.69890\n",
       "2      5.17310\n",
       "3      1.00350\n",
       "4      0.21469\n",
       "..         ...\n",
       "995   39.90800\n",
       "996    2.77390\n",
       "997    4.18190\n",
       "998   63.89000\n",
       "999   11.66300\n",
       "\n",
       "[1000 rows x 1 columns]"
      ]
     },
     "execution_count": 53,
     "metadata": {},
     "output_type": "execute_result"
    }
   ],
   "source": [
    "dataset_pd"
   ]
  },
  {
   "cell_type": "code",
   "execution_count": 54,
   "metadata": {},
   "outputs": [],
   "source": [
    "dataset = dataset_pd.to_numpy()"
   ]
  },
  {
   "cell_type": "code",
   "execution_count": 55,
   "metadata": {},
   "outputs": [],
   "source": [
    "# function to get initial means\n",
    "def initial_means(data,Number_of_clus,mean):\n",
    "    minimum_distance = []\n",
    "    maximum_distance = []\n",
    "    for k in range(1,Number_of_clus):\n",
    "        for i in range(0,len(data)):\n",
    "            for j in range(0,len(mean)):\n",
    "                minimum_distance.append(np.linalg.norm(data[i]-np.array(mean[j])))\n",
    "            maximum_distance.append(min(minimum_distance))\n",
    "            minimum_distance = []\n",
    "        mean.append(list(np.array((data[maximum_distance.index(max(maximum_distance))]))))\n",
    "        maximum_distance = []\n",
    "    return mean\n",
    "\n",
    "#forming new clusters with cluster function\n",
    "def cluster(data, mean, Number_of_clus):\n",
    "    near_mean = []\n",
    "    Z = []\n",
    "    clust_no = []\n",
    "    err = 0\n",
    "    #creating empty list for cluster division\n",
    "    for i in range(0,Number_of_clus):\n",
    "        Z.append([])\n",
    "    for i in range(0,len(dataset)):\n",
    "        #calculating the distance from data points to all means\n",
    "        for j in range(0,Number_of_clus):\n",
    "            distance = data[i]-np.array(mean[j])\n",
    "            near_mean.append(distance@distance.transpose())\n",
    "        #appending the cluster number of data point to k in correspoding index\n",
    "        clust_no.append(near_mean.index(min(near_mean))+1)\n",
    "        #clustering the data points to their respective cluster\n",
    "        Z[near_mean.index(min(near_mean))].append(list(data[i]))\n",
    "        #calculating error\n",
    "        err = err+min(near_mean)\n",
    "        near_mean = []\n",
    "    return Z,clust_no,err\n",
    "\n",
    "#Calculating new mean for the clusters from the above function \n",
    "def new_cluster_mean(Z,Number_of_clus):\n",
    "    #Claculating mean of the same clusters\n",
    "    new_mean = []\n",
    "    new_variance = []\n",
    "    phi  = []\n",
    "    for i in range(0,Number_of_clus):\n",
    "        for j in range(0,len(np.array(Z[i]).transpose())):\n",
    "            new_mean.append((np.array(Z[i])[:,j]).mean())\n",
    "            new_variance.append((np.array(Z[i])[:,j]).var())\n",
    "            phi_no=len(np.array(Z[i])[:,j])/1000\n",
    "            phi.append(phi_no)\n",
    "    return new_mean,new_variance,phi\n",
    "\n",
    "#Finding Final Clusters, means, error\n",
    "def final(data,Number_of_clus,idx):\n",
    "    means = []\n",
    "    means.append(list(data[idx]))\n",
    "    first_means = initial_means(data,Number_of_clus,means)\n",
    "    first_means.sort()\n",
    "    \n",
    "    error_list = []\n",
    "    cluster_1, k1, error = cluster(data,first_means,Number_of_clus)\n",
    "    error_list.append(error)\n",
    "    k_t = k1\n",
    "    mean_t,variance_t,phi_t = new_cluster_mean(cluster_1,Number_of_clus)\n",
    "    while(True):\n",
    "        cluster_t1, k_t1,error = cluster(data,mean_t,Number_of_clus)\n",
    "        mean_t1,variance_t1,phi_t1 = new_cluster_mean(cluster_t1,Number_of_clus)\n",
    "        if k_t1 != k_t:\n",
    "            k_t = k_t1\n",
    "            cluster_t = cluster_t1\n",
    "            mean_t = mean_t1\n",
    "            variance_t =variance_t1\n",
    "            phi_t = phi_t1\n",
    "            error_list.append(error)\n",
    "        else: \n",
    "            break\n",
    "    return k_t,mean_t,variance_t,phi_t,error_list"
   ]
  },
  {
   "cell_type": "code",
   "execution_count": 56,
   "metadata": {},
   "outputs": [
    {
     "data": {
      "text/plain": [
       "<AxesSubplot:xlabel='feature_1'>"
      ]
     },
     "execution_count": 56,
     "metadata": {},
     "output_type": "execute_result"
    },
    {
     "data": {
      "image/png": "[encoded data removed]",
      "text/plain": [
       "<Figure size 432x288 with 1 Axes>"
      ]
     },
     "metadata": {
      "needs_background": "light"
     },
     "output_type": "display_data"
    }
   ],
   "source": [
    "#initialization of parameters\n",
    "Number_of_clus = 4\n",
    "idx = 256\n",
    "cluster_number,mean_t,variance_t,phi_t,error_list = final(dataset,Number_of_clus,idx)\n",
    "dataset_pd = pd.DataFrame(dataset)\n",
    "dataset_pd.columns = ['feature_1']\n",
    "z = pd.DataFrame(cluster_number)\n",
    "z.columns = ['cluster']\n",
    "dataset_pd = pd.concat([dataset_pd,z],axis=1)\n",
    "sns.scatterplot(x=dataset_pd.feature_1,y=1,hue = dataset_pd.cluster, s = 25)"
   ]
  },
  {
   "cell_type": "code",
   "execution_count": 57,
   "metadata": {},
   "outputs": [
    {
     "name": "stdout",
     "output_type": "stream",
     "text": [
      "[1.720094044440415, 16.20715899280576, 36.41782812500001, 68.84516]\n",
      "[4.285966731213187, 20.709519438678118, 46.871407611083995, 120.85994381440001]\n",
      "[0.772, 0.139, 0.064, 0.025]\n"
     ]
    }
   ],
   "source": [
    "print(mean_t)\n",
    "print(variance_t)\n",
    "print(phi_t)"
   ]
  },
  {
   "cell_type": "code",
   "execution_count": 58,
   "metadata": {},
   "outputs": [
    {
     "name": "stdout",
     "output_type": "stream",
     "text": [
      "[0 1 2 3]\n"
     ]
    },
    {
     "data": {
      "text/plain": [
       "array([ 1.72009404, 16.20715899, 36.41782813, 68.84516   ])"
      ]
     },
     "execution_count": 58,
     "metadata": {},
     "output_type": "execute_result"
    }
   ],
   "source": [
    "idx = np.array(mean_t).argsort()\n",
    "mean_t = np.array(mean_t)[idx]\n",
    "print(idx)\n",
    "mean_t"
   ]
  },
  {
   "cell_type": "code",
   "execution_count": 59,
   "metadata": {},
   "outputs": [
    {
     "name": "stdout",
     "output_type": "stream",
     "text": [
      "[0 1 2 3]\n"
     ]
    },
    {
     "data": {
      "text/plain": [
       "array([  4.28596673,  20.70951944,  46.87140761, 120.85994381])"
      ]
     },
     "execution_count": 59,
     "metadata": {},
     "output_type": "execute_result"
    }
   ],
   "source": [
    "variance_t = np.array(variance_t)[idx]\n",
    "print(idx)\n",
    "variance_t"
   ]
  },
  {
   "cell_type": "code",
   "execution_count": 60,
   "metadata": {},
   "outputs": [
    {
     "data": {
      "text/plain": [
       "array([0.772, 0.139, 0.064, 0.025])"
      ]
     },
     "execution_count": 60,
     "metadata": {},
     "output_type": "execute_result"
    }
   ],
   "source": [
    "phi_t = np.array(phi_t)[idx]\n",
    "phi_t"
   ]
  },
  {
   "cell_type": "markdown",
   "metadata": {},
   "source": [
    "# Determine which probabilisitic mixture could have generated this data (It is not a Gaussian mixture). Derive the EM algorithm for your choice of mixture and show your calculations. Write a piece of code to implement the algorithm you derived by setting the number of mixtures K = 4. Plot the log-likelihood (averaged over 100 random initializations) as a function of iterations."
   ]
  },
  {
   "cell_type": "code",
   "execution_count": 61,
   "metadata": {},
   "outputs": [],
   "source": [
    "# functions for likelihood, lamda and parameters\n",
    "def likelihood_1(dataset,teta_a,phi_t):\n",
    "    log_l = np.empty([1000,4])\n",
    "    log_l_columns=[]\n",
    "    likelihood =[]\n",
    "    for i in range(0,len(dataset)):\n",
    "        for j in range(0,Number_of_clus):\n",
    "            log_l[i][j] = ((phi_t[j])*teta_a[j]*math.exp(-(dataset[i]*teta_a[j])))\n",
    "        log_l_columns.append(math.log(round(log_l[i,:].sum(),20)))\n",
    "    likelihood.append(sum(log_l_columns))\n",
    "    return likelihood\n",
    "\n",
    "def lamda_1(dataset,teta_a,phi_t):\n",
    "    l=np.empty([1000,4])\n",
    "    l_d=np.empty([1000,4])\n",
    "    l_denomenator=[]\n",
    "    for i in range(0,len(dataset)):\n",
    "        for k in range(0,Number_of_clus):\n",
    "            l_d[i][k]= ((phi_t[k])*teta_a[k]*math.exp(-(dataset[i]*teta_a[k])))\n",
    "        l_denomenator.append(l_d[i,:].sum())    \n",
    "    for i in range(0,len(dataset)):\n",
    "        for j in range(0,Number_of_clus):\n",
    "            l[i][j] = (((phi_t[j])*teta_a[j]*math.exp(-(dataset[i]*teta_a[j])))/l_denomenator[i])\n",
    "    return l  \n",
    "                           \n",
    "def parameters_1(dataset,l_teta):\n",
    "    m=np.empty([1000,4])\n",
    "    d=np.empty([1000,4])\n",
    "    n=1000\n",
    "    teta_a_t1 = []\n",
    "    phi_t1 = []\n",
    "    for i in range(0,Number_of_clus):\n",
    "        for j in range(0,len(dataset)):\n",
    "            m[j][i] = (dataset[j]*l_teta[j][i])\n",
    "            d[j][i]= (l_teta[j][i])\n",
    "        teta_a_t1.append((d[:,i].sum())/(m[:,i].sum()))\n",
    "        phi_t1.append((d[:,i].sum())/n)\n",
    "    return teta_a_t1,phi_t1 "
   ]
  },
  {
   "cell_type": "code",
   "execution_count": 62,
   "metadata": {},
   "outputs": [],
   "source": [
    "#100 random initialisations\n",
    "def random_initialisation(dataset,Number_of_clus):\n",
    "    mean_random = np.empty([100,4])\n",
    "    variance_random = np.empty([100,4])\n",
    "    phi_random = np.empty([100,4])\n",
    "    mean_r = []\n",
    "    variance_r = []\n",
    "    phi_r = []\n",
    "    mean_final = []\n",
    "    variance_final = []\n",
    "    phi_final = []\n",
    "    x1= [x1 for x1 in range(1,1000,10)]\n",
    "    for i in range(0,100):\n",
    "        cluster_no,mean_r,variance_r,phi_r,error_list_r = final(dataset,Number_of_clus,x1[i])\n",
    "        mean_random[i] = mean_r\n",
    "        variance_random[i] = variance_r\n",
    "        phi_random[i] = phi_r\n",
    "    for j in range(0,Number_of_clus):\n",
    "        mean_final.append(mean_random[:,j].mean())\n",
    "        variance_final.append(variance_random[:,j].mean())\n",
    "        phi_final.append(phi_random[:,j].mean())\n",
    "    return mean_final,variance_final,phi_final\n",
    "        \n",
    "    \n",
    "        \n",
    "        \n",
    "        "
   ]
  },
  {
   "cell_type": "code",
   "execution_count": 63,
   "metadata": {},
   "outputs": [],
   "source": [
    "mean_t,variance_t,phi_t= random_initialisation(dataset,Number_of_clus)"
   ]
  },
  {
   "cell_type": "code",
   "execution_count": 64,
   "metadata": {},
   "outputs": [
    {
     "data": {
      "text/plain": [
       "[1.7200940444404145, 16.207158992805763, 36.41782812500002, 68.84515999999999]"
      ]
     },
     "execution_count": 64,
     "metadata": {},
     "output_type": "execute_result"
    }
   ],
   "source": [
    "mean_t"
   ]
  },
  {
   "cell_type": "code",
   "execution_count": 65,
   "metadata": {},
   "outputs": [
    {
     "name": "stdout",
     "output_type": "stream",
     "text": [
      "0.09440820215270705 0.08352077946801459\n",
      "0.10590399834121375 0.041751496032487116\n",
      "0.0847745994766689 0.027867552350518215\n",
      "0.058233778129379056 0.019067400861927458\n",
      "0.03696915831805585 0.012711681876391243\n",
      "0.022776180905802967 0.008234097325162684\n",
      "0.013928042418967541 0.0052220159079391865\n",
      "0.008515926075733562 0.003266465983572133\n",
      "0.00521302352062529 0.0020249249872034067\n",
      "0.0031936948866880506 0.001247004263838967\n",
      "0.0019567474785189723 0.000763312783997054\n",
      "0.0011982968493647623 0.0004639754307937398\n",
      "0.0007334435117231188 0.00027934209934181133\n",
      "0.0004493780095824773 0.0001658402119987242\n",
      "0.00027725403943396076 9.646133190093453e-05\n",
      "0.00017514772717738507 5.4667341316049415e-05\n",
      "0.00011741917116084373 3.067777975208084e-05\n",
      "8.756044783898776e-05 1.9201110597093025e-05\n",
      "[1, 2, 3, 4, 5, 6, 7, 8, 9, 10, 11, 12, 13, 14, 15, 16, 17, 18]\n",
      "18\n",
      "[-2635.1881526695656, -2592.1711706228593, -2574.128382068638, -2565.9805401364197, -2562.643222760488, -2561.349216787428, -2560.8569179249957, -2560.670460489959, -2560.5998138453288, -2560.572970489145, -2560.562705258475, -2560.558722559274, -2560.557126030319, -2560.5564398016277, -2560.5561042305144, -2560.5559067272893, -2560.5557662485976, -2560.5556516556912]\n",
      "18\n"
     ]
    }
   ],
   "source": [
    "#loop to find log likelihood until convergence\n",
    "logl_a = []\n",
    "s=1\n",
    "y_a=[]\n",
    "y_a.append(s)\n",
    "dataset_pd = pd.read_csv('A2Q1.csv',header = None)\n",
    "dataset_pd.columns=['feature_1']\n",
    "dataset = dataset_pd.to_numpy()\n",
    "Number_of_clus = 4\n",
    "idx = 256\n",
    "#iteration 1\n",
    "mean_t,variance_t,phi_t= random_initialisation(dataset,Number_of_clus)\n",
    "teta_a_t = list(1/np.array(mean_t))\n",
    "likelihood_t_a = likelihood_1(dataset,teta_a_t,phi_t)\n",
    "logl_a.append(float(np.array(likelihood_t_a)))\n",
    "\n",
    "\n",
    "while(True):\n",
    "    lamda_t_1 = lamda_1(dataset,teta_a_t,phi_t)\n",
    "    tetaA_t_1,phi_t_1 = parameters_1(dataset,lamda_t_1)\n",
    "    tetaA_norm = np.linalg.norm(np.array(tetaA_t_1)-np.array(teta_a_t))\n",
    "    phi_norm = np.linalg.norm(np.array(phi_t_1) - np.array(phi_t))\n",
    "    print(tetaA_norm,phi_norm)\n",
    "    #convergence condition\n",
    "    if max(tetaA_norm,phi_norm)>0.0001:\n",
    "        teta_a_t=tetaA_t_1\n",
    "        phi_t = phi_t_1\n",
    "        likelihood_t = likelihood_1(dataset,teta_a_t,phi_t)\n",
    "        logl_a.append(float(np.array(likelihood_t)))\n",
    "        s=s+1\n",
    "        y_a.append(s)\n",
    "\n",
    "    else:\n",
    "        break\n",
    "print(y_a)\n",
    "print(s)\n",
    "print(logl_a)\n",
    "print(len(logl_a))"
   ]
  },
  {
   "cell_type": "code",
   "execution_count": 66,
   "metadata": {},
   "outputs": [
    {
     "data": {
      "text/plain": [
       "Text(0.5, 1.0, 'plot of log likelihood function for a probabilistic mixture')"
      ]
     },
     "execution_count": 66,
     "metadata": {},
     "output_type": "execute_result"
    },
    {
     "data": {
      "image/png": "[encoded data removed]",
      "text/plain": [
       "<Figure size 432x288 with 1 Axes>"
      ]
     },
     "metadata": {
      "needs_background": "light"
     },
     "output_type": "display_data"
    }
   ],
   "source": [
    "#plot of log likelihood function for a probabilistic mixture\n",
    "plt.plot(y_a,logl_a)\n",
    "plt.xlabel('Number of iterations')\n",
    "plt.ylabel('log likelihood')\n",
    "plt.title('plot of log likelihood function for a probabilistic mixture')"
   ]
  },
  {
   "cell_type": "markdown",
   "metadata": {},
   "source": [
    "# Assume that the same data was infact generated from a mixture of Gaussians with 4 mixtures. Implement the EM algorithm and plot the log-likelihood (averaged over 100 random initializations of the parameters) as a function of iterations. How does the plot compare with the plot from part (i)? Provide insights that you draw from this experiment."
   ]
  },
  {
   "cell_type": "code",
   "execution_count": 67,
   "metadata": {},
   "outputs": [],
   "source": [
    "#function to calculate likelihood for gaussian distribution\n",
    "def likelihood(dataset,mean_t,variance_t,phi_t):\n",
    "    log_l = np.empty([1000,4])\n",
    "    log_l_columns=[]\n",
    "    likelihood =[]\n",
    "    for i in range(0,len(dataset)):\n",
    "        for j in range(0,Number_of_clus):\n",
    "            log_l[i][j] = (((2*math.pi*variance_t[j])**(-0.5))*(phi_t[j])*math.exp(-((dataset[i]-mean_t[j])**2)/(2*variance_t[j])))\n",
    "        log_l_columns.append(math.log(round(log_l[i,:].sum(),20)))\n",
    "    likelihood.append(sum(log_l_columns))\n",
    "    return likelihood"
   ]
  },
  {
   "cell_type": "code",
   "execution_count": 68,
   "metadata": {},
   "outputs": [],
   "source": [
    "#function for lamda\n",
    "#lamda_0 = ((2*np.pi*np.array(variance_t))**(-0.5))*np.array(phi_t)\n",
    "Number_of_clus = 4\n",
    "def lamda(dataset,mean_t,variance_t,phi_t):\n",
    "    l=np.empty([1000,4])\n",
    "    l_d=np.empty([1000,4])\n",
    "    l_denomenator=[]\n",
    "    for i in range(0,len(dataset)):\n",
    "        for k in range(0,Number_of_clus):\n",
    "            l_d[i][k]= (((2*np.pi*variance_t[k])**(-0.5))*(phi_t[k])*math.exp(-((dataset[i]-mean_t[k])**2)/(2*variance_t[k])))\n",
    "        l_denomenator.append(l_d[i,:].sum())        \n",
    "    for i in range(0,len(dataset)):\n",
    "        for j in range(0,Number_of_clus):\n",
    "            l[i][j] = (((2*np.pi*variance_t[j])**(-0.5))*(phi_t[j])*math.exp(-((dataset[i]-mean_t[j])**2)/(2*variance_t[j])))/l_denomenator[i]\n",
    "    return l  "
   ]
  },
  {
   "cell_type": "code",
   "execution_count": 69,
   "metadata": {},
   "outputs": [],
   "source": [
    "#function for mean,variance,phi\n",
    "def parameters(dataset,l_teta):\n",
    "    m=np.empty([1000,4])\n",
    "    d=np.empty([1000,4])\n",
    "    n=1000\n",
    "    mean_t1 = []\n",
    "    phi_t1 = []\n",
    "    for i in range(0,Number_of_clus):\n",
    "        for j in range(0,len(dataset)):\n",
    "            m[j][i] = (dataset[j]*l_teta[j][i])\n",
    "            d[j][i]= (l_teta[j][i])\n",
    "        mean_t1.append((m[:,i].sum())/(d[:,i].sum()))\n",
    "        phi_t1.append((d[:,i].sum())/n)\n",
    "    return mean_t1,phi_t1  \n",
    "\n",
    "def variance_teta(dataset,l_teta,mean_t1):\n",
    "    m_1=np.empty([1000,4])\n",
    "    d=np.empty([1000,4])\n",
    "    variance_t1=[]\n",
    "    for i in range(0,len(dataset)):\n",
    "        for j in range(0,Number_of_clus):\n",
    "            m_1[i][j] = l_teta[i][j]*(dataset[i]-mean_t1[j])**2\n",
    "    for i in range(0,Number_of_clus):\n",
    "        variance_t1.append((m_1[:,i].sum())/(l_teta[:,i].sum()))\n",
    "    return variance_t1 "
   ]
  },
  {
   "cell_type": "code",
   "execution_count": 70,
   "metadata": {},
   "outputs": [
    {
     "name": "stdout",
     "output_type": "stream",
     "text": [
      "[1, 2, 3, 4, 5, 6, 7, 8, 9, 10, 11, 12, 13, 14, 15, 16, 17, 18, 19, 20, 21, 22, 23, 24, 25, 26, 27, 28, 29, 30, 31, 32, 33, 34, 35, 36, 37, 38, 39, 40, 41, 42, 43, 44, 45, 46, 47, 48, 49, 50, 51, 52, 53, 54, 55, 56, 57, 58, 59, 60, 61, 62, 63, 64, 65, 66, 67, 68, 69, 70, 71, 72, 73, 74, 75, 76, 77, 78, 79, 80, 81, 82, 83, 84, 85, 86, 87, 88, 89, 90, 91, 92, 93, 94, 95, 96, 97, 98, 99, 100, 101, 102, 103, 104, 105, 106, 107, 108, 109, 110, 111, 112, 113, 114, 115, 116, 117, 118, 119, 120, 121, 122, 123, 124, 125, 126, 127, 128, 129, 130, 131, 132, 133, 134, 135, 136, 137, 138, 139, 140, 141, 142, 143, 144, 145, 146, 147, 148, 149, 150, 151, 152, 153, 154, 155, 156, 157, 158, 159, 160, 161, 162, 163, 164, 165, 166, 167, 168, 169, 170, 171, 172]\n",
      "172\n",
      "[-3060.145383298287, -2980.7576664411076, -2880.662228919003, -2802.953527534467, -2768.259394850531, -2752.0915156340056, -2743.5412722176557, -2738.4931126207603, -2735.195097016464, -2732.84834732913, -2731.048068210366, -2729.572348363269, -2728.2933232887785, -2727.134726247792, -2726.0495988339185, -2725.0079330430417, -2723.989630331678, -2722.980430155688, -2721.9695255256115, -2720.948148357066, -2719.908733816938, -2718.844472524046, -2717.7491858098733, -2716.6175366180323, -2715.4456200150444, -2714.2319444791374, -2712.978685969774, -2711.6928628265114, -2710.3868341315783, -2709.077510921641, -2707.7841303730816, -2706.5252433710284, -2705.31608002453, -2704.16718274048, -2703.084410377163, -2702.069822244754, -2701.122848459568, -2700.241342810591, -2699.422336146809, -2698.6624655230817, -2697.9581468484735, -2697.305599201324, -2696.700826116754, -2696.139625870726, -2695.617657979237, -2695.1305556567277, -2694.6740549053948, -2694.244110383199, -2693.8369787260967, -2693.449262756592, -2693.0779193952235, -2692.7202385964706, -2692.3738013127722, -2692.0364231037042, -2691.7060879084997, -2691.380874358989, -2691.0588749521567, -2690.7381062428753, -2690.416405644144, -2690.091307047949, -2689.759882813756, -2689.4185329785046, -2689.0626926303903, -2688.68641329724, -2688.2817508075436, -2687.837855766818, -2687.3396078382625, -2686.7655582124335, -2686.0848599846363, -2685.252853426374, -2684.205317310515, -2682.852916378172, -2681.0818801604755, -2678.7764891654365, -2675.888238954398, -2672.5522281577746, -2669.143445484817, -2666.1023976087695, -2663.663204443529, -2661.8228593048184, -2660.473648082112, -2659.49249342062, -2658.7740675079613, -2658.2390069094213, -2657.8317019004476, -2657.514638174166, -2657.262812977095, -2657.059445253571, -2656.89304222395, -2656.755509454711, -2656.6409670226585, -2656.5450138702618, -2656.464267638594, -2656.3960715835296, -2656.3383028236353, -2656.289242702521, -2656.247485999566, -2656.2118751318953, -2656.1814509892674, -2656.1554152520825, -2656.133100925784, -2656.1139489458164, -2656.0974893888474, -2656.0833262534666, -2656.071125051417, -2656.0606026379746, -2656.051518842347, -2656.043669554475, -2656.0368809966003, -2656.031004962717, -2656.0259148514947, -2656.0215023519722, -2656.0176746678153, -2656.0143521871, -2656.0114665218257, -2656.0089588547175, -2656.0067785426, -2656.004881933872, -2656.0032313655543, -2656.0017943111143, -2656.000542655057, -2655.9994520744954, -2655.9985015111542, -2655.997672719773, -2655.9969498814517, -2655.9963192721, -2655.9957689778257, -2655.9952886502556, -2655.994869296036, -2655.994503095454, -2655.9941832461227, -2655.9939038279663, -2655.9936596866887, -2655.9934463329446, -2655.9932598551445, -2655.9930968439394, -2655.9929543267863, -2655.992829711172, -2655.9927207354635, -2655.992625426074, -2655.9925420604113, -2655.992469134582, -2655.9924053353584, -2655.9923495157495, -2655.992300673777, -2655.9922579340064, -2655.992220531405, -2655.9921877973156, -2655.9921591472666, -2655.9921340702695, -2655.992112119523, -2655.9920929043196, -2655.9920760829564, -2655.992061356546, -2655.9920484636536, -2655.992037175555, -2655.9920272921413, -2655.9920186383138, -2655.992011060869, -2655.9920044257174, -2655.9919986155282, -2655.99199352759, -2655.991989072011, -2655.991985170121, -2655.9919817530294, -2655.991978760442, -2655.991976139582, -2655.9919738442245, -2655.9919718339215, -2655.991970073235, -2655.9919685311497, -2655.991967180518]\n",
      "172\n"
     ]
    }
   ],
   "source": [
    "logl = []\n",
    "a=1\n",
    "y=[]\n",
    "y.append(a)\n",
    "dataset_pd = pd.read_csv('A2Q1.csv',header = None)\n",
    "dataset_pd.columns=['feature_1']\n",
    "dataset = dataset_pd.to_numpy()\n",
    "Number_of_clus = 4\n",
    "idx = 256\n",
    "mean_t1,variance_t1,phi_t1 = random_initialisation(dataset,Number_of_clus)\n",
    "likelihood_t = likelihood(dataset,mean_t1,variance_t1,phi_t1)\n",
    "logl.append(float(np.array(likelihood_t)))\n",
    "\n",
    "\n",
    "while(True):\n",
    "    lamda_t_1 = lamda(dataset,mean_t1,variance_t1,phi_t1)\n",
    "    mean_t_1,phi_t_1 = parameters(dataset,lamda_t_1)\n",
    "    variance_t_1 = variance_teta(dataset,lamda_t_1,mean_t_1)\n",
    "    mean_norm = np.linalg.norm(np.array(mean_t_1)-np.array(mean_t1))\n",
    "    variance_norm = np.linalg.norm(np.array(variance_t_1) - np.array(variance_t1))\n",
    "    phi_norm = np.linalg.norm(np.array(phi_t_1) - np.array(phi_t1))\n",
    "    if max(mean_norm,variance_norm,phi_norm)>0.0001:\n",
    "        mean_t1=mean_t_1\n",
    "        variance_t1=variance_t_1\n",
    "        phi_t1 = phi_t_1\n",
    "        likelihood_t = likelihood(dataset,mean_t_1,variance_t_1,phi_t_1)\n",
    "        logl.append(float(np.array(likelihood_t)))\n",
    "        a=a+1\n",
    "        y.append(a)\n",
    "\n",
    "    else:\n",
    "        break\n",
    "print(y)\n",
    "print(a)\n",
    "print(logl)\n",
    "print(len(logl))\n"
   ]
  },
  {
   "cell_type": "code",
   "execution_count": 72,
   "metadata": {},
   "outputs": [
    {
     "data": {
      "text/plain": [
       "Text(0.5, 1.0, 'plot of log likelihood function for a gaussian distribution')"
      ]
     },
     "execution_count": 72,
     "metadata": {},
     "output_type": "execute_result"
    },
    {
     "data": {
      "image/png": "[encoded data removed]",
      "text/plain": [
       "<Figure size 432x288 with 1 Axes>"
      ]
     },
     "metadata": {
      "needs_background": "light"
     },
     "output_type": "display_data"
    }
   ],
   "source": [
    "#plot of log likelihood function for a gaussian distribution\n",
    "plt.plot(y,logl)\n",
    "plt.xlabel('Number of iterations')\n",
    "plt.ylabel('log likelihood')\n",
    "plt.title('plot of log likelihood function for a gaussian distribution')"
   ]
  },
  {
   "cell_type": "markdown",
   "metadata": {},
   "source": [
    "# Run the K-means algorithm with K = 4 on the same data. Plot the objective of K − means as a function of iterations."
   ]
  },
  {
   "cell_type": "code",
   "execution_count": 73,
   "metadata": {},
   "outputs": [],
   "source": [
    "Number_of_clus = 4\n",
    "idx = 256\n",
    "k_e,mean_e,variance_e,phi_e,error_list_e = final(dataset,Number_of_clus,idx)"
   ]
  },
  {
   "cell_type": "code",
   "execution_count": 74,
   "metadata": {},
   "outputs": [
    {
     "data": {
      "text/plain": [
       "[35735.43585023049,\n",
       " 19717.20915797124,\n",
       " 18194.290556604523,\n",
       " 17495.535559142154,\n",
       " 16823.958428592457,\n",
       " 15834.725652335062,\n",
       " 14325.813954986583,\n",
       " 13592.460695464646,\n",
       " 13024.886657126543,\n",
       " 12438.284557971834,\n",
       " 12233.589721351622]"
      ]
     },
     "execution_count": 74,
     "metadata": {},
     "output_type": "execute_result"
    }
   ],
   "source": [
    "error_list_e"
   ]
  },
  {
   "cell_type": "code",
   "execution_count": 75,
   "metadata": {},
   "outputs": [
    {
     "data": {
      "text/plain": [
       "Text(0.5, 1.0, 'plot of objective of k-means as a function of iterations')"
      ]
     },
     "execution_count": 75,
     "metadata": {},
     "output_type": "execute_result"
    },
    {
     "data": {
      "image/png": "[encoded data removed]",
      "text/plain": [
       "<Figure size 432x288 with 1 Axes>"
      ]
     },
     "metadata": {
      "needs_background": "light"
     },
     "output_type": "display_data"
    }
   ],
   "source": [
    "x= [x for x in range(1,len(error_list_e)+1)]\n",
    "plt.plot(x,error_list_e)\n",
    "plt.xlabel('itterations')\n",
    "plt.ylabel('error')\n",
    "plt.title('plot of objective of k-means as a function of iterations')"
   ]
  }
 ],
 "metadata": {
  "kernelspec": {
   "display_name": "Python 3",
   "language": "python",
   "name": "python3"
  },
  "language_info": {
   "codemirror_mode": {
    "name": "ipython",
    "version": 3
   },
   "file_extension": ".py",
   "mimetype": "text/x-python",
   "name": "python",
   "nbconvert_exporter": "python",
   "pygments_lexer": "ipython3",
   "version": "3.7.4"
  }
 },
 "nbformat": 4,
 "nbformat_minor": 4
}
